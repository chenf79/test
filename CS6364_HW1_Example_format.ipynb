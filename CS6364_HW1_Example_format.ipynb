{
  "nbformat": 4,
  "nbformat_minor": 0,
  "metadata": {
    "colab": {
      "name": "CS6364_HW1_Example_format.ipynb",
      "provenance": [],
      "authorship_tag": "ABX9TyPIa2p49sz/LONOMDYvNsQG",
      "include_colab_link": true
    },
    "kernelspec": {
      "name": "python3",
      "display_name": "Python 3"
    },
    "language_info": {
      "name": "python"
    }
  },
  "cells": [
    {
      "cell_type": "markdown",
      "metadata": {
        "id": "view-in-github",
        "colab_type": "text"
      },
      "source": [
        "<a href=\"https://colab.research.google.com/github/chenf79/test/blob/master/CS6364_HW1_Example_format.ipynb\" target=\"_parent\"><img src=\"https://colab.research.google.com/assets/colab-badge.svg\" alt=\"Open In Colab\"/></a>"
      ]
    },
    {
      "cell_type": "markdown",
      "source": [
        "Task 1: Test Python Environment"
      ],
      "metadata": {
        "id": "M0R2UUPxv2IC"
      }
    },
    {
      "cell_type": "code",
      "execution_count": 2,
      "metadata": {
        "colab": {
          "base_uri": "https://localhost:8080/"
        },
        "id": "yAX2R3Bvuyi9",
        "outputId": "2b9c5474-350b-44ad-8804-67a8e7b0b6f2"
      },
      "outputs": [
        {
          "output_type": "stream",
          "name": "stdout",
          "text": [
            "hello world\n"
          ]
        }
      ],
      "source": [
        "def task1():\n",
        "  print(\"hello world\")\n",
        "\n",
        "if __name__== '__main__':\n",
        "  task1()"
      ]
    },
    {
      "cell_type": "markdown",
      "source": [
        "Task 2: Define Object"
      ],
      "metadata": {
        "id": "S4TDxCGNv7h_"
      }
    },
    {
      "cell_type": "code",
      "source": [
        "# Write you codes in this cell for Task 2"
      ],
      "metadata": {
        "id": "BLi68Gz0wK2T"
      },
      "execution_count": null,
      "outputs": []
    },
    {
      "cell_type": "markdown",
      "source": [
        "Task 3: File Reading"
      ],
      "metadata": {
        "id": "6Zq0YdIGwW2k"
      }
    },
    {
      "cell_type": "code",
      "source": [
        "# Write you codes in this cell for Task 3"
      ],
      "metadata": {
        "id": "aubrWzafwV83"
      },
      "execution_count": null,
      "outputs": []
    }
  ]
}